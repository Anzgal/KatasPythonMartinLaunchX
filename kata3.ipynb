{
 "cells": [
  {
   "cell_type": "code",
   "execution_count": 3,
   "metadata": {},
   "outputs": [
    {
     "name": "stdout",
     "output_type": "stream",
     "text": [
      "Va demasiado rapido\n"
     ]
    }
   ],
   "source": [
    "# Añadir el código necesario para crear una variable que guarde la velocidad del asteroide.\n",
    "velocidadAsteroide=49\n",
    "# Escribe una expresión de prueba para calcular si necesita una advertencia.\n",
    "necesitaAdvertencia = velocidadAsteroide > 25\n",
    "# Agregue las instrucciones que se ejecutarán si la expresión de prueba es true o false.\n",
    "if necesitaAdvertencia:\n",
    "    print(\"Va demasiado rapido\")\n",
    "else:\n",
    "    print(\"Todo cool\")"
   ]
  },
  {
   "cell_type": "code",
   "execution_count": 7,
   "metadata": {},
   "outputs": [
    {
     "name": "stdout",
     "output_type": "stream",
     "text": [
      "El asteroide no se puede ver\n"
     ]
    }
   ],
   "source": [
    "# Agrega el código para crear una variable para un asteroide que viaja a 19 km/s\n",
    "velocidadAsteroide=19\n",
    "# Escribe varias expresiones de prueba para determinar si puedes ver el rayo de luz desde la tierra\n",
    "if velocidadAsteroide >= 20:\n",
    "    print(\"El asteroide se puede ver\")\n",
    "else:\n",
    "    print(\"El asteroide no se puede ver\")\n",
    "# Agrega las instrucciones que se ejecutarán si las expresiones de prueba son True o False"
   ]
  },
  {
   "cell_type": "code",
   "execution_count": 8,
   "metadata": {},
   "outputs": [
    {
     "name": "stdout",
     "output_type": "stream",
     "text": [
      "El asteroide se puede ver\n"
     ]
    }
   ],
   "source": [
    "# Agrega el código para crear nuevas variables para la velocidad y el tamaño del asteroide\n",
    "velocidadAsteroide = 25\n",
    "tamanoAsteroide = 40\n",
    "# Para probar el código, prueba con varias velocidades y tamaños\n",
    "# Escribe varias expresiones de prueba o combinaciones de expresiones de prueba para determinar qué mensaje se debe enviar a Tierra.\n",
    "\n",
    "\n",
    "if velocidadAsteroide > 25 and tamanoAsteroide > 25:\n",
    "    print('Peligro')\n",
    "elif velocidadAsteroide >= 20:\n",
    "    print('El asteroide se puede ver')\n",
    "elif tamanoAsteroide < 25:\n",
    "    print('No hay peligro')\n",
    "else:\n",
    "    print('No hay peligro')"
   ]
  }
 ],
 "metadata": {
  "interpreter": {
   "hash": "32ca047185c972e3f982627b45e982fd2a00e68adc740c8ffee65b2af7fde3c8"
  },
  "kernelspec": {
   "display_name": "Python 3.7.3 64-bit ('base': conda)",
   "language": "python",
   "name": "python3"
  },
  "language_info": {
   "codemirror_mode": {
    "name": "ipython",
    "version": 3
   },
   "file_extension": ".py",
   "mimetype": "text/x-python",
   "name": "python",
   "nbconvert_exporter": "python",
   "pygments_lexer": "ipython3",
   "version": "3.7.3"
  },
  "orig_nbformat": 4
 },
 "nbformat": 4,
 "nbformat_minor": 2
}

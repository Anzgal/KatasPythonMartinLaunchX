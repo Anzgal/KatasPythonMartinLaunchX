{
 "cells": [
  {
   "cell_type": "code",
   "execution_count": 2,
   "metadata": {},
   "outputs": [
    {
     "name": "stdout",
     "output_type": "stream",
     "text": [
      "628949330\n",
      "390577533.93\n"
     ]
    }
   ],
   "source": [
    "# Crear variables para almacenar las dos distancias\n",
    "tierra = 149597870\n",
    "jupiter = 778547200\n",
    "# ¡Asegúrate de quitar las comas!\n",
    "\n",
    "# Calcular la distancia entre planetas\n",
    "\n",
    "km = jupiter - tierra\n",
    "print(km)\n",
    "\n",
    "mi= km * 0.621\n",
    "print(mi)"
   ]
  },
  {
   "cell_type": "code",
   "execution_count": 3,
   "metadata": {},
   "outputs": [
    {
     "name": "stdout",
     "output_type": "stream",
     "text": [
      "-1\n",
      "0.621\n"
     ]
    }
   ],
   "source": [
    "# Almacenar las entradas del usuario\n",
    "#Pista: variable = input(\"¿Cuál es tu nombre?\")\n",
    "primerPlaneta = input('Introduzca la primer distancia')\n",
    "segundoPlaneta = input('Introduzca la segunda distancia')\n",
    "\n",
    "# Convierte las cadenas de ambos planetas a números enteros\n",
    "primerPlaneta = int(primerPlaneta)\n",
    "segundoPlaneta = int(segundoPlaneta)\n",
    "\n",
    "# Realizar el cálculo y determinar el valor absoluto\n",
    "km = segundoPlaneta - primerPlaneta\n",
    "print(km)\n",
    "\n",
    "# Convertir de KM a Millas\n",
    "mi = km * 0.621\n",
    "print(abs(mi))"
   ]
  }
 ],
 "metadata": {
  "interpreter": {
   "hash": "32ca047185c972e3f982627b45e982fd2a00e68adc740c8ffee65b2af7fde3c8"
  },
  "kernelspec": {
   "display_name": "Python 3.7.3 64-bit ('base': conda)",
   "language": "python",
   "name": "python3"
  },
  "language_info": {
   "codemirror_mode": {
    "name": "ipython",
    "version": 3
   },
   "file_extension": ".py",
   "mimetype": "text/x-python",
   "name": "python",
   "nbconvert_exporter": "python",
   "pygments_lexer": "ipython3",
   "version": "3.7.3"
  },
  "orig_nbformat": 4
 },
 "nbformat": 4,
 "nbformat_minor": 2
}
